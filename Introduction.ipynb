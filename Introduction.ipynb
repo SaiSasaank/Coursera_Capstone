{
 "cells": [
  {
   "cell_type": "markdown",
   "metadata": {},
   "source": [
    "<H2>Buying/RENTING Property (LONDON)<H2>"
   ]
  },
  {
   "cell_type": "markdown",
   "metadata": {
    "collapsed": true
   },
   "source": [
    "<h3>INTRODUCTION<h3>"
   ]
  },
  {
   "cell_type": "markdown",
   "metadata": {},
   "source": [
    "House hunting is a difficult job and in this project we take London as an example.\n",
    "Where you live in London will have a huge impact on the land value. For instance, if you want to buy a properties close to business/ dailyconvinence, such as central London, Kensington, Chelsea or the Docklands it will cost you a six digit figure. However, if you move to sub urban areas of London, property become much more affordable.\n",
    "Irrespective of the location you live in you’ll be well serviced by the excellent public transport system. The underground train system, known as ‘The Tube’ covers the whole of the city. And although it can get crowded during the rush to and from work in morning and evening, in general it’s pleasant, safe and efficient to use.\n",
    "This means that it’s perfectly feasible to choose to live in the outer reaches of London – even in the open spaces of leafy suburbs such as Richmond, Kew, Blackheath or Harrow – and still be able to commute into central London easily and quickly.\n",
    "\n",
    "<b>Problem</b>""\n",
    "Websites like Zoopla and Rightmove help you out searching your house but narrowing down the area to look for is a manual task and they don't show the attractions nearby or the neighborhood distinct areas. To search for the house according to your preferences about the neighborhood, you'll need to browse the internet and find informations by yourself. It is a consuming and tiring. To help with this process of searching for a new house and narrow down the search for the house according to user preffered neighborhood we designed this project. This project focouse on providing relevant and quality information to be used for a decision when choosing the best residence to live in."
   ]
  }
 ],
 "metadata": {
  "kernelspec": {
   "display_name": "Python 3.5",
   "language": "python",
   "name": "python3"
  },
  "language_info": {
   "codemirror_mode": {
    "name": "ipython",
    "version": 3
   },
   "file_extension": ".py",
   "mimetype": "text/x-python",
   "name": "python",
   "nbconvert_exporter": "python",
   "pygments_lexer": "ipython3",
   "version": "3.5.5"
  }
 },
 "nbformat": 4,
 "nbformat_minor": 1
}
