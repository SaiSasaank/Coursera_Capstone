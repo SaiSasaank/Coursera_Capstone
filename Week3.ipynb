{
    "nbformat_minor": 1, 
    "cells": [
        {
            "source": "import pandas as pd\nimport requests\nimport numpy as np\n!conda install -c conda-forge beautifulsoup4 --yes\n!conda install -c conda-forge lxml --yes\nfrom bs4 import BeautifulSoup", 
            "cell_type": "code", 
            "metadata": {}, 
            "outputs": [
                {
                    "output_type": "stream", 
                    "name": "stdout", 
                    "text": "Solving environment: done\n\n# All requested packages already installed.\n\nSolving environment: | "
                }
            ], 
            "execution_count": null
        }, 
        {
            "source": "url = \"https://en.wikipedia.org/wiki/List_of_postal_codes_of_Canada:_M\"", 
            "cell_type": "code", 
            "metadata": {}, 
            "outputs": [], 
            "execution_count": null
        }, 
        {
            "source": "response = requests.get(url)\nsoup = BeautifulSoup(response.text,'lxml')\ntable = soup.find_all('table')[0] \ncolumn_headers = [th.getText() for th in \n                  soup.findAll('tr', limit=1)[0].findAll('th')]\ncolumn_headers[-1] = column_headers[-1].strip()\ndata_rows = table.findAll('tr')[1:]\nrow_data = [[td.getText() for td in data_rows[i].findAll('td')]\n            for i in range(len(data_rows))]\ndf = pd.DataFrame(row_data, columns=column_headers)\ndf.Neighbourhood = df.Neighbourhood.map(lambda x: str(x)[:-1])", 
            "cell_type": "code", 
            "metadata": {}, 
            "outputs": [], 
            "execution_count": null
        }, 
        {
            "source": "df1 = df[df.Borough != 'Not assigned']\ndf1['Neighbourhood'] = np.where(df1.Neighbourhood == 'Not assigned', df1.Borough, df1.Neighbourhood)\ndf1.reset_index(inplace=True)\ndf1 = df1.drop(['index'], axis=1)", 
            "cell_type": "code", 
            "metadata": {}, 
            "outputs": [], 
            "execution_count": null
        }, 
        {
            "source": "df2 = df1.groupby(['Postcode', 'Borough'], sort=False)['Neighbourhood'].apply(lambda x: ', '.join(x))\ndf3 = pd.DataFrame(df2).reset_index(inplace=False)\ndf3[0:5]", 
            "cell_type": "code", 
            "metadata": {}, 
            "outputs": [], 
            "execution_count": null
        }, 
        {
            "source": "df3.shape", 
            "cell_type": "code", 
            "metadata": {}, 
            "outputs": [], 
            "execution_count": null
        }
    ], 
    "metadata": {
        "kernelspec": {
            "display_name": "Python 3.5", 
            "name": "python3", 
            "language": "python"
        }, 
        "language_info": {
            "mimetype": "text/x-python", 
            "nbconvert_exporter": "python", 
            "version": "3.5.5", 
            "name": "python", 
            "file_extension": ".py", 
            "pygments_lexer": "ipython3", 
            "codemirror_mode": {
                "version": 3, 
                "name": "ipython"
            }
        }
    }, 
    "nbformat": 4
}