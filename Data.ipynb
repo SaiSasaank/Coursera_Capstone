{
 "cells": [
  {
   "cell_type": "markdown",
   "metadata": {},
   "source": [
    "<H2>Buying/RENTING Property (LONDON)<H2>"
   ]
  },
  {
   "cell_type": "markdown",
   "metadata": {
    "collapsed": true
   },
   "source": [
    "<h3>INTRODUCTION<h3>"
   ]
  },
  {
   "cell_type": "markdown",
   "metadata": {},
   "source": [
    "House hunting is a difficult job and in this project we take London as an example.\n",
    "Where you live in London will have a huge impact on the land value. For instance, if you want to buy a properties close to business/ dailyconvinence, such as central London, Kensington, Chelsea or the Docklands it will cost you a six digit figure. However, if you move to sub urban areas of London, property become much more affordable.\n",
    "Irrespective of the location you live in you’ll be well serviced by the excellent public transport system. The underground train system, known as ‘The Tube’ covers the whole of the city. And although it can get crowded during the rush to and from work in morning and evening, in general it’s pleasant, safe and efficient to use.\n",
    "This means that it’s perfectly feasible to choose to live in the outer reaches of London – even in the open spaces of leafy suburbs such as Richmond, Kew, Blackheath or Harrow – and still be able to commute into central London easily and quickly.\n",
    "\n",
    "Websites like Zoopla and Rightmove help you out searching your house but narrowing down the area to look for is a manual task and they don't show the attractions nearby or the neighborhood distinct areas. To search for the house according to your preferences about the neighborhood, you'll need to browse the internet and find informations by yourself. It is a consuming and tiring. To help with this process of searching for a new house and narrow down the search for the house according to user preffered neighborhood we designed this project. This project focouse on providing relevant and quality information to be used for a decision when choosing the best residence to live in."
   ]
  },
  {
   "cell_type": "markdown",
   "metadata": {},
   "source": [
    "<h2>DATA<H2>"
   ]
  },
  {
   "cell_type": "markdown",
   "metadata": {},
   "source": [
    "<b>Dataset used for the project: London Lewisham council postcodes</b>\n",
    "\n",
    "The data that contains all postcodes present in the Lewisham council in London is downloaded from doogal.co.uk. In this dataset, the mainly focus is the Lee Green ward to minimize the calls to Four square API. This dataset can als be accessed from the url \"https://www.doogal.co.uk/AdministrativeAreasCSV.ashx?district=E09000023\"\n",
    "\n",
    "Lewisham council postcodes data has many columns out of which only Postcode, Longitude, Latitude, Country ans  Ward of the postcode are of our interest. The data set looks like this."
   ]
  },
  {
   "cell_type": "code",
   "execution_count": 4,
   "metadata": {},
   "outputs": [
    {
     "data": {
      "text/html": [
       "<div>\n",
       "<style scoped>\n",
       "    .dataframe tbody tr th:only-of-type {\n",
       "        vertical-align: middle;\n",
       "    }\n",
       "\n",
       "    .dataframe tbody tr th {\n",
       "        vertical-align: top;\n",
       "    }\n",
       "\n",
       "    .dataframe thead th {\n",
       "        text-align: right;\n",
       "    }\n",
       "</style>\n",
       "<table border=\"1\" class=\"dataframe\">\n",
       "  <thead>\n",
       "    <tr style=\"text-align: right;\">\n",
       "      <th></th>\n",
       "      <th>Postcode</th>\n",
       "      <th>In Use?</th>\n",
       "      <th>Latitude</th>\n",
       "      <th>Longitude</th>\n",
       "      <th>Easting</th>\n",
       "      <th>Northing</th>\n",
       "      <th>Grid Ref</th>\n",
       "      <th>Ward</th>\n",
       "      <th>Parish</th>\n",
       "      <th>Introduced</th>\n",
       "      <th>Terminated</th>\n",
       "      <th>Altitude</th>\n",
       "      <th>Country</th>\n",
       "      <th>Last Updated</th>\n",
       "      <th>Quality</th>\n",
       "      <th>LSOA Code</th>\n",
       "    </tr>\n",
       "  </thead>\n",
       "  <tbody>\n",
       "    <tr>\n",
       "      <th>0</th>\n",
       "      <td>BR1 4BY</td>\n",
       "      <td>Yes</td>\n",
       "      <td>51.417289</td>\n",
       "      <td>-0.001741</td>\n",
       "      <td>539050</td>\n",
       "      <td>170591</td>\n",
       "      <td>TQ390705</td>\n",
       "      <td>Downham</td>\n",
       "      <td>Lewisham, unparished area</td>\n",
       "      <td>1980-01-01</td>\n",
       "      <td>NaN</td>\n",
       "      <td>35</td>\n",
       "      <td>England</td>\n",
       "      <td>2019-05-29</td>\n",
       "      <td>Within the building of the matched address clo...</td>\n",
       "      <td>E01003235</td>\n",
       "    </tr>\n",
       "    <tr>\n",
       "      <th>1</th>\n",
       "      <td>BR1 4DN</td>\n",
       "      <td>Yes</td>\n",
       "      <td>51.418996</td>\n",
       "      <td>-0.002156</td>\n",
       "      <td>539016</td>\n",
       "      <td>170780</td>\n",
       "      <td>TQ390707</td>\n",
       "      <td>Downham</td>\n",
       "      <td>Lewisham, unparished area</td>\n",
       "      <td>1980-01-01</td>\n",
       "      <td>NaN</td>\n",
       "      <td>35</td>\n",
       "      <td>England</td>\n",
       "      <td>2019-05-29</td>\n",
       "      <td>Within the building of the matched address clo...</td>\n",
       "      <td>E01003235</td>\n",
       "    </tr>\n",
       "    <tr>\n",
       "      <th>2</th>\n",
       "      <td>BR1 4EY</td>\n",
       "      <td>Yes</td>\n",
       "      <td>51.418477</td>\n",
       "      <td>0.005042</td>\n",
       "      <td>539518</td>\n",
       "      <td>170736</td>\n",
       "      <td>TQ395707</td>\n",
       "      <td>Downham</td>\n",
       "      <td>Lewisham, unparished area</td>\n",
       "      <td>1980-01-01</td>\n",
       "      <td>NaN</td>\n",
       "      <td>50</td>\n",
       "      <td>England</td>\n",
       "      <td>2019-05-29</td>\n",
       "      <td>Within the building of the matched address clo...</td>\n",
       "      <td>E01032565</td>\n",
       "    </tr>\n",
       "    <tr>\n",
       "      <th>3</th>\n",
       "      <td>BR1 4FD</td>\n",
       "      <td>Yes</td>\n",
       "      <td>51.421083</td>\n",
       "      <td>-0.002194</td>\n",
       "      <td>539007</td>\n",
       "      <td>171012</td>\n",
       "      <td>TQ390710</td>\n",
       "      <td>Downham</td>\n",
       "      <td>Lewisham, unparished area</td>\n",
       "      <td>2010-01-01</td>\n",
       "      <td>NaN</td>\n",
       "      <td>33</td>\n",
       "      <td>England</td>\n",
       "      <td>2019-05-29</td>\n",
       "      <td>Within the building of the matched address clo...</td>\n",
       "      <td>E01003235</td>\n",
       "    </tr>\n",
       "    <tr>\n",
       "      <th>4</th>\n",
       "      <td>BR1 4JG</td>\n",
       "      <td>Yes</td>\n",
       "      <td>51.419403</td>\n",
       "      <td>-0.000728</td>\n",
       "      <td>539114</td>\n",
       "      <td>170828</td>\n",
       "      <td>TQ391708</td>\n",
       "      <td>Downham</td>\n",
       "      <td>Lewisham, unparished area</td>\n",
       "      <td>1980-01-01</td>\n",
       "      <td>NaN</td>\n",
       "      <td>40</td>\n",
       "      <td>England</td>\n",
       "      <td>2019-05-29</td>\n",
       "      <td>Within the building of the matched address clo...</td>\n",
       "      <td>E01003235</td>\n",
       "    </tr>\n",
       "  </tbody>\n",
       "</table>\n",
       "</div>"
      ],
      "text/plain": [
       "  Postcode In Use?   Latitude  Longitude  Easting  Northing  Grid Ref  \\\n",
       "0  BR1 4BY     Yes  51.417289  -0.001741   539050    170591  TQ390705   \n",
       "1  BR1 4DN     Yes  51.418996  -0.002156   539016    170780  TQ390707   \n",
       "2  BR1 4EY     Yes  51.418477   0.005042   539518    170736  TQ395707   \n",
       "3  BR1 4FD     Yes  51.421083  -0.002194   539007    171012  TQ390710   \n",
       "4  BR1 4JG     Yes  51.419403  -0.000728   539114    170828  TQ391708   \n",
       "\n",
       "      Ward                     Parish  Introduced Terminated  Altitude  \\\n",
       "0  Downham  Lewisham, unparished area  1980-01-01        NaN        35   \n",
       "1  Downham  Lewisham, unparished area  1980-01-01        NaN        35   \n",
       "2  Downham  Lewisham, unparished area  1980-01-01        NaN        50   \n",
       "3  Downham  Lewisham, unparished area  2010-01-01        NaN        33   \n",
       "4  Downham  Lewisham, unparished area  1980-01-01        NaN        40   \n",
       "\n",
       "   Country Last Updated                                            Quality  \\\n",
       "0  England   2019-05-29  Within the building of the matched address clo...   \n",
       "1  England   2019-05-29  Within the building of the matched address clo...   \n",
       "2  England   2019-05-29  Within the building of the matched address clo...   \n",
       "3  England   2019-05-29  Within the building of the matched address clo...   \n",
       "4  England   2019-05-29  Within the building of the matched address clo...   \n",
       "\n",
       "   LSOA Code  \n",
       "0  E01003235  \n",
       "1  E01003235  \n",
       "2  E01032565  \n",
       "3  E01003235  \n",
       "4  E01003235  "
      ]
     },
     "execution_count": 4,
     "metadata": {},
     "output_type": "execute_result"
    }
   ],
   "source": [
    "import pandas as pd\n",
    "file_name = 'https://www.doogal.co.uk/AdministrativeAreasCSV.ashx?district=E09000023' \n",
    "df = pd.read_csv(file_name)\n",
    "df.head()"
   ]
  },
  {
   "cell_type": "markdown",
   "metadata": {},
   "source": [
    "<b>Dataset accessed from third party application: Foursquare location data</b>\n",
    "\n",
    "The Foursquare API enables developers to build applications that interact with the Foursquare platform. Venues data will be used in collaboration with the above dataset. Foursquare City Guide, commonly known as Foursquare, is a local search-and-discovery mobile app which provides search results for its users. The app provides personalized recommendations of places to go near a user's current location based on users' previous browsing history and check-in history.\n",
    "\n",
    "FourSquare API has a rate limit for explore api of 500 regular calls/day when using the Personal Account, so that's the reason why to focus on only Lee Green part of the Lewisham."
   ]
  },
  {
   "cell_type": "markdown",
   "metadata": {},
   "source": [
    "<b>Methodology</b>\n",
    "\n",
    "<i>Data Wrangling/Cleansing:</i>\n",
    "\n",
    "Data obtained from Doogle for Lewisham council are concentrated on few columns only (Postcode, Latitude, Longitude and Ward). To obtain uniqueness on the different location, every postcode in Lewisham is divided into two major parts, District and Sector. A new column which contain Sectors is created and added the new column to the cleansed data. The data for Lee Green ward is filtered to minimize the calls to Four square API.\n",
    "\n",
    "<i>Exploratory Analysis:</i>\n",
    "\n",
    "Lewisham data has 18 unique wards. It is filtered on a single ward as a point of interest namely Lee Green. As explained in the cleansing step that postcode is comprised of two components, district and sector.\n",
    "\n",
    "All the sectors are plotted on the map and then five different clusters based on the venue categories provided by Foursquare API data are created and then, the top five venues in each sector can be explored.\n",
    "\n",
    "Since the objective is to ease the search for people who have preferences in terms of nearby venues, the project tries to explore all the sectors under Lee Green ward using Foursquare API and obtain multiple venues names, their geographical coordinates and category for each sector within 500m radius and put a limit on the number of venues as 100 for each sector.\n",
    "\n",
    "<i>Machine Learning:</i>\n",
    "\n",
    "K-means Clustering is used for the project after the exploratory analysis to categorise postcodes into different homogenous clusters based on the venue categories. It will segment the data into groups where groups are similar among themselves but different from other groups in terms of occurence of venue categories. For the dataset, K-means Clustering will append another column to the dataset which will depict the cluster number, similar sectors will be grouped together."
   ]
  },
  {
   "cell_type": "code",
   "execution_count": null,
   "metadata": {},
   "outputs": [],
   "source": []
  }
 ],
 "metadata": {
  "kernelspec": {
   "display_name": "Python 3.5",
   "language": "python",
   "name": "python3"
  },
  "language_info": {
   "codemirror_mode": {
    "name": "ipython",
    "version": 3
   },
   "file_extension": ".py",
   "mimetype": "text/x-python",
   "name": "python",
   "nbconvert_exporter": "python",
   "pygments_lexer": "ipython3",
   "version": "3.5.5"
  }
 },
 "nbformat": 4,
 "nbformat_minor": 1
}
